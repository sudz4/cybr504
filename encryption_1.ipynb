{
 "cells": [
  {
   "attachments": {},
   "cell_type": "markdown",
   "metadata": {},
   "source": [
    "| XOR operation |\n",
    "| ----------- |"
   ]
  },
  {
   "cell_type": "code",
   "execution_count": 1,
   "metadata": {},
   "outputs": [
    {
     "name": "stdout",
     "output_type": "stream",
     "text": [
      "01001101\n"
     ]
    }
   ],
   "source": [
    "\"\"\"bitwise XOR operator example\"\"\"\n",
    "\n",
    "a = int('11011000', 2) # binary representation of 216\n",
    "b = int('10010101', 2) # binary representation of 149\n",
    "\n",
    "result = a ^ b # bitwise XOR operator\n",
    "\n",
    "print(bin(result)[2:].zfill(8)) # convert result to binary and print it, padded with leading zeros to make it 8 bits\n",
    "# the bin() function converts the result back to binary"
   ]
  },
  {
   "attachments": {},
   "cell_type": "markdown",
   "metadata": {},
   "source": [
    "| END OF PROGRAM |\n",
    "| ----------- |"
   ]
  },
  {
   "cell_type": "markdown",
   "metadata": {},
   "source": []
  }
 ],
 "metadata": {
  "kernelspec": {
   "display_name": "IP_TRACK_venv",
   "language": "python",
   "name": "python3"
  },
  "language_info": {
   "codemirror_mode": {
    "name": "ipython",
    "version": 3
   },
   "file_extension": ".py",
   "mimetype": "text/x-python",
   "name": "python",
   "nbconvert_exporter": "python",
   "pygments_lexer": "ipython3",
   "version": "3.11.1"
  },
  "orig_nbformat": 4
 },
 "nbformat": 4,
 "nbformat_minor": 2
}
