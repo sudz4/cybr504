{
 "cells": [
  {
   "attachments": {},
   "cell_type": "markdown",
   "id": "f10e0134-4a88-4505-baaa-05daeb8c0417",
   "metadata": {},
   "source": [
    "<div class=\"alert alert-block alert-info\">\n",
    "<span style=\"color:black\">             \n",
    "<h1> MODULE 2.1 - Hashing </h1>\n",
    "<h2>Overview</h2>\n",
    "\n",
    "Hash functions are a key component of many cryptographic functions. \n",
    "    \n",
    "In this lab you will look at generating hash digests from the Linux command line and in Python scripts.\n",
    "\n",
    "This lab has 5 sections\n",
    "* Running Linux shell commands from Jupyter Notebook\n",
    "* Hashing using openssl\n",
    "* Properties of cryptographic hash functions\n",
    "* Blockchain Proof-of-Work\n",
    "* A simple XOR-based \"hash\" function\n"
   ]
  },
  {
   "attachments": {},
   "cell_type": "markdown",
   "id": "7023042c-3279-494e-8f36-941d31bb158a",
   "metadata": {},
   "source": [
    "<div class=\"alert alert-block alert-info\">\n",
    "<span style=\"color:black\">\n",
    "    <h3>Getting Started</h3>"
   ]
  },
  {
   "attachments": {},
   "cell_type": "markdown",
   "id": "78330bdc-bde1-4dd7-9c56-e3bca1fff0bd",
   "metadata": {},
   "source": [
    "<div class=\"alert alert-block alert-info\">\n",
    "<span style=\"color:black\">\n",
    "    In Jupyter Notebook, you can execute Linux shell commands, by prefixing them with the \"!\" character\n",
    "\n",
    "In the cell below, list the current directory. Use !ls"
   ]
  },
  {
   "cell_type": "code",
   "execution_count": 1,
   "id": "b9a68c1f-77de-4bd9-90ff-f15303367558",
   "metadata": {},
   "outputs": [
    {
     "name": "stdout",
     "output_type": "stream",
     "text": [
      "CYBR504-JupyterLab-Intro.ipynb M2.3-protocols.ipynb\n",
      "\u001b[34mIP_TRACK_venv\u001b[m\u001b[m                  encryption_1.ipynb\n",
      "M1_key_generation.ipynb        ip_find.py\n",
      "M1_random_numbers.ipynb        ip_jup.ipynb\n",
      "M1_side_channel_attacks.ipynb  is_vpn.py\n",
      "M2.1-hashing_basics.ipynb      my_current_ip.py\n",
      "M2.2-hashing_sql.ipynb\n"
     ]
    }
   ],
   "source": [
    "!ls"
   ]
  },
  {
   "attachments": {},
   "cell_type": "markdown",
   "id": "2e7edc55-b94a-45ad-9d07-537574e894d0",
   "metadata": {},
   "source": [
    "<div class=\"alert alert-block alert-info\">\n",
    "<span style=\"color:black\">\n",
    "    Now try getting the first line of the password file. Hint: cat /etc/passwd | head -1"
   ]
  },
  {
   "cell_type": "code",
   "execution_count": 2,
   "id": "b2bd12d6-9081-4174-8342-c419e648b0e7",
   "metadata": {},
   "outputs": [
    {
     "name": "stdout",
     "output_type": "stream",
     "text": [
      "##\n"
     ]
    }
   ],
   "source": [
    "!cat /etc/passwd | head -1"
   ]
  },
  {
   "attachments": {},
   "cell_type": "markdown",
   "id": "2111daf5-80fe-46fb-8e71-936ae0c345fd",
   "metadata": {},
   "source": [
    "<div class=\"alert alert-block alert-info\">\n",
    "<span style=\"color:black\">\n",
    "    you can pass variables to shell commands by prefixing the variable name with a \"$\"\n",
    "\n",
    "Try running the cell below"
   ]
  },
  {
   "cell_type": "code",
   "execution_count": 3,
   "id": "7f0354f2-a99f-4eb4-80de-8d52b2163227",
   "metadata": {},
   "outputs": [
    {
     "name": "stdout",
     "output_type": "stream",
     "text": [
      "_mbsetupuser:*:248:248:Setup User:/var/setup:/bin/bash\n"
     ]
    }
   ],
   "source": [
    "filter=\"/bin/bash\"\n",
    "\n",
    "! cat /etc/passwd | grep $filter"
   ]
  },
  {
   "attachments": {},
   "cell_type": "markdown",
   "id": "11f748d0-758f-493a-a74d-af4303ec5d61",
   "metadata": {},
   "source": [
    "<div class=\"alert alert-block alert-info\">\n",
    "<span style=\"color:black\"\n",
    "The openssl command provides many cryptographic related functions. To get information about generating hash values, use:\n",
    "<br>    `openssl dgst --help`\n",
    "<br>To generate has values, use openssl of the form:\n",
    "<br>`openssl dgst -DIGEST_NAME FILE_TO_HASH`\n",
    "<br>For example `openssl dgst -sha256 /etc/passwd`\n",
    "<br>You can also use input from stdin, for example:\n",
    "<br>`cat /etc/passwd | openssl dgst -sha256`\n",
    "<br><br>Open a cell below and try this (Don't forget to add the \"!\" at the beginning)"
   ]
  },
  {
   "cell_type": "code",
   "execution_count": 20,
   "id": "9d6ba23f-8923-4db7-8d4d-8e914410f048",
   "metadata": {},
   "outputs": [
    {
     "name": "stdout",
     "output_type": "stream",
     "text": [
      "SHA2-256(stdin)= bbb5b41faf87dc348dfc4def35fde32a0bf5f6c3f788b46836d735b11496abd4\n"
     ]
    }
   ],
   "source": [
    "!cat /etc/passwd | openssl dgst -sha256"
   ]
  },
  {
   "attachments": {},
   "cell_type": "markdown",
   "id": "e3bdd921-f296-4b45-84cf-3c410308908d",
   "metadata": {},
   "source": [
    "<div class=\"alert alert-block alert-info\">\n",
    "<span style=\"color:black\">\n",
    "    To see a list of the available digests use the `openssl list -digest-commands`"
   ]
  },
  {
   "cell_type": "code",
   "execution_count": 4,
   "id": "1ac4dee4-1976-4f2d-8b0d-ae93c7f6e539",
   "metadata": {},
   "outputs": [
    {
     "name": "stdout",
     "output_type": "stream",
     "text": [
      "openssl:Error: 'list' is an invalid command.\n",
      "\n",
      "Standard commands\n",
      "asn1parse         ca                certhash          ciphers           \n",
      "crl               crl2pkcs7         dgst              dh                \n",
      "dhparam           dsa               dsaparam          ec                \n",
      "ecparam           enc               errstr            gendh             \n",
      "gendsa            genpkey           genrsa            nseq              \n",
      "ocsp              passwd            pkcs12            pkcs7             \n",
      "pkcs8             pkey              pkeyparam         pkeyutl           \n",
      "prime             rand              req               rsa               \n",
      "rsautl            s_client          s_server          s_time            \n",
      "sess_id           smime             speed             spkac             \n",
      "ts                verify            version           x509              \n",
      "\n",
      "Message Digest commands (see the `dgst' command for more details)\n",
      "gost-mac          md4               md5               md_gost94         \n",
      "ripemd160         sha1              sha224            sha256            \n",
      "sha384            sha512            streebog256       streebog512       \n",
      "whirlpool         \n",
      "\n",
      "Cipher commands (see the `enc' command for more details)\n",
      "aes-128-cbc       aes-128-ecb       aes-192-cbc       aes-192-ecb       \n",
      "aes-256-cbc       aes-256-ecb       base64            bf                \n",
      "bf-cbc            bf-cfb            bf-ecb            bf-ofb            \n",
      "camellia-128-cbc  camellia-128-ecb  camellia-192-cbc  camellia-192-ecb  \n",
      "camellia-256-cbc  camellia-256-ecb  cast              cast-cbc          \n",
      "cast5-cbc         cast5-cfb         cast5-ecb         cast5-ofb         \n",
      "chacha            des               des-cbc           des-cfb           \n",
      "des-ecb           des-ede           des-ede-cbc       des-ede-cfb       \n",
      "des-ede-ofb       des-ede3          des-ede3-cbc      des-ede3-cfb      \n",
      "des-ede3-ofb      des-ofb           des3              desx              \n",
      "rc2               rc2-40-cbc        rc2-64-cbc        rc2-cbc           \n",
      "rc2-cfb           rc2-ecb           rc2-ofb           rc4               \n",
      "rc4-40            \n",
      "\n"
     ]
    }
   ],
   "source": [
    "!openssl list -digest-commands"
   ]
  },
  {
   "attachments": {},
   "cell_type": "markdown",
   "id": "f8d6f37f-1dc0-4a14-85af-e0d2d0c62f77",
   "metadata": {},
   "source": [
    "<div class=\"alert alert-block alert-info\">\n",
    "<span style=\"color:black\">\n",
    "    You can have more than one command in a cell. As an example, run the next cell.\n"
   ]
  },
  {
   "cell_type": "code",
   "execution_count": 5,
   "id": "efc0250e-d168-4df8-882c-53c6658f4a46",
   "metadata": {},
   "outputs": [
    {
     "name": "stdout",
     "output_type": "stream",
     "text": [
      "Darwin 4zdus.attlocal.net 21.4.0 Darwin Kernel Version 21.4.0: Mon Feb 21 20:35:58 PST 2022; root:xnu-8020.101.4~2/RELEASE_ARM64_T6000 arm64\n",
      "Wed Mar  8 16:06:26 PST 2023\n",
      "Filesystem       Size   Used  Avail Capacity iused      ifree %iused  Mounted on\n",
      "/dev/disk3s1s1  926Gi   22Gi  818Gi     3%  500632 4293967565    0%   /\n"
     ]
    }
   ],
   "source": [
    "!uname -a\n",
    "!date\n",
    "!df -h /\n"
   ]
  },
  {
   "attachments": {},
   "cell_type": "markdown",
   "id": "d3136ed9-9a66-42a9-881d-e418da1d8713",
   "metadata": {},
   "source": [
    "<div class=\"alert alert-block alert-info\">\n",
    "<span style=\"color:black\">\n",
    "    Now using the message, \"Once upon a time in San Diego...\" as input, open a cell and generate digests using the md5, sha256, sha512, sha3-512, and blake2s256 hashing algorithms. <br>Remember, you can issue multiple commands in once cell"
   ]
  },
  {
   "cell_type": "code",
   "execution_count": 82,
   "id": "366276c7-685a-40aa-93ce-ba3f91c35f5b",
   "metadata": {},
   "outputs": [
    {
     "name": "stdout",
     "output_type": "stream",
     "text": [
      "MD5(stdin)= 8260fffb870b74898b2935c8772d283e\n",
      "SHA1(stdin)= 680cb3cbb9b79155288c0d482f9cd9ff7f322bc8\n",
      "SHA2-256(stdin)= 56946f2d29c49880cefb8a770322c465844dfff9a9d8b4d3384711ff0bbc53b6\n",
      "SHA2-512(stdin)= 9b065faac14de45507ecd3e221f2f999793e5d15cb43821a526c5898355518bf4838971f1030884b92187514c2921da23cfb85e4c2c6de76e68f53836d1280bf\n",
      "SHA3-512(stdin)= ffd7e1d3022be98fce899a429e3bc11bd378ea04f5631d9dd5657856ff640786252bffd3a1fd43bbf966ef28f349fbc24f7f8d06d9942bdd2264178d5da00219\n",
      "BLAKE2S-256(stdin)= 14415fa233bee43f7c7e86830d02c2a04ba15fcae215a6811a6103173781c6db\n"
     ]
    }
   ],
   "source": [
    "msg=\"Once upon a time in San Diego...\"\n",
    "\n",
    "! echo -n $msg | openssl dgst -md5\n",
    "! echo -n $msg | openssl dgst -sha1\n",
    "! echo -n $msg | openssl dgst -sha256\n",
    "! echo -n $msg | openssl dgst -sha512\n",
    "! echo -n $msg | openssl dgst -sha3-512\n",
    "! echo -n $msg | openssl dgst -blake2s256\n"
   ]
  },
  {
   "attachments": {},
   "cell_type": "markdown",
   "id": "dd549cbd-4b4b-4cc8-88b4-8dc98e196fb0",
   "metadata": {},
   "source": [
    "<div class=\"alert alert-block alert-info\">\n",
    "<span style=\"color:black\">\n",
    "Note what similarities and differences you see."
   ]
  },
  {
   "cell_type": "raw",
   "id": "372e0108-3513-4ffd-8e71-04a76256ebfa",
   "metadata": {},
   "source": [
    "Answer:\n",
    "MD5\n",
    "SHA1\n",
    "SHA2-256\n",
    "SHA2-512\n",
    "SHA3-512\n",
    "BLAKE2S-256\n",
    "\n",
    "Similarities:\n",
    "SHA2-512 & SHA3-512 both produce 512 bit hash values (154 digits).\n",
    "SHA2-256 & BLAKE2S-256 both produce 256 bit hash values (77 digits). \n",
    "\n",
    "MD5 & SHA1 are hash functions that have been deprecated from use.\n",
    "\n",
    "Differences:\n"
   ]
  },
  {
   "cell_type": "raw",
   "id": "c6744271",
   "metadata": {},
   "source": []
  },
  {
   "attachments": {},
   "cell_type": "markdown",
   "id": "29684745-e3e5-499d-a7a5-b29ee8dedb2c",
   "metadata": {},
   "source": [
    "<div class=\"alert alert-block alert-info\">\n",
    "<span style=\"color:black\">\n",
    "Now run the same set of commands, but use /etc/passwd as the input. Do this in the cell below. We've already started it for you."
   ]
  },
  {
   "cell_type": "code",
   "execution_count": null,
   "id": "dbd60ba8-d26e-4399-aafa-36a8ca55ac28",
   "metadata": {},
   "outputs": [],
   "source": [
    "!openssl dgst -md5 /etc/passwd\n",
    "<< add lines to generate the digests for the other 4 algorithms >>"
   ]
  },
  {
   "attachments": {},
   "cell_type": "markdown",
   "id": "2b30ec67-33d5-49e1-a1ec-02c9105dfc09",
   "metadata": {},
   "source": [
    "<div class=\"alert alert-block alert-info\">\n",
    "<span style=\"color:black\">\n",
    "    Consider the two inputs, and the different hashing functions, now what differences and similarities do you see? <br>\n",
    "-- Feel free to open cells and run these in a different order or whatever you feel will help you."
   ]
  },
  {
   "cell_type": "raw",
   "id": "d7c17601-f7f1-4809-92bd-7e291e1921f4",
   "metadata": {},
   "source": [
    "Answer:"
   ]
  },
  {
   "cell_type": "markdown",
   "id": "6a984c71-9cdd-4d98-92a7-08bbf7833ce6",
   "metadata": {},
   "source": [
    "<div class=\"alert alert-block alert-info\">\n",
    "<span style=\"color:black\">\n",
    "You can also save the output of these commands as variables in Python. Run the cell below as an example"
   ]
  },
  {
   "cell_type": "code",
   "execution_count": 2,
   "id": "96914d01-ad4c-4f65-ab79-e8bf299b65c3",
   "metadata": {},
   "outputs": [
    {
     "name": "stdout",
     "output_type": "stream",
     "text": [
      "['d41d8cd98f00b204e9800998ecf8427e *stdin']\n",
      "['2dcc48713d82a4e6215fa84a946bb3fc *stdin']\n"
     ]
    }
   ],
   "source": [
    "d1 =  !echo -n $msg | openssl dgst -md5 -r\n",
    "d2 =  !cat /etc/passwd | openssl dgst -md5 -r\n",
    "print(d1)\n",
    "print(d2)"
   ]
  },
  {
   "cell_type": "code",
   "execution_count": null,
   "id": "61bd04fd-4e89-4ad7-889a-9bd124baf00d",
   "metadata": {},
   "outputs": [],
   "source": []
  },
  {
   "cell_type": "code",
   "execution_count": null,
   "id": "0610125c-0cd2-4ca7-8910-8ca75b2d7f54",
   "metadata": {},
   "outputs": [],
   "source": []
  },
  {
   "attachments": {},
   "cell_type": "markdown",
   "id": "e572a8f7-8239-46f4-a5a2-c03af716ad4e",
   "metadata": {
    "tags": []
   },
   "source": [
    "<div class=\"alert alert-block alert-info\">\n",
    "<span style=\"color:black\">\n",
    "    <H3>Unpredictability</H3>\n",
    "Run the next cell to generate the SHA-256 hash values for the bit values 0000, 0001, and 0010. \n"
   ]
  },
  {
   "attachments": {},
   "cell_type": "markdown",
   "id": "6ffb7e5d-6a72-40d5-a45c-526e797a4c86",
   "metadata": {},
   "source": [
    "<div class=\"alert alert-block alert-info\">\n",
    "<span style=\"color:black\">\n",
    "Changing one bit resulting in a widespread change in bit values is known as the \"avalache effect\" and is one of the properties of secure hash functions.\n",
    "<br>Although each input is only 1 bit different from the others, there is no noticible pattern between the outputs.\n",
    "<br>Given these digests, other than the length, you couldn't say anything about what \\003 would be, that is, the output is unpredictable.\n",
    "<br>A secure hash function should generate output that appears indistinguishable from random."
   ]
  },
  {
   "cell_type": "code",
   "execution_count": 1,
   "id": "7d7aa8fa-c3b9-488f-b284-768bb9af2c8b",
   "metadata": {},
   "outputs": [
    {
     "name": "stdout",
     "output_type": "stream",
     "text": [
      "unknown option '-sha-256'\n",
      "options are\n",
      "-c              to output the digest with separating colons\n",
      "-r              to output the digest in coreutils format\n",
      "-d              to output debug info\n",
      "-hex            output as hex dump\n",
      "-binary         output in binary form\n",
      "-sign   file    sign digest using private key in file\n",
      "-verify file    verify a signature using public key in file\n",
      "-prverify file  verify a signature using private key in file\n",
      "-keyform arg    key file format (PEM)\n",
      "-out filename   output to filename rather than stdout\n",
      "-signature file signature to verify\n",
      "-sigopt nm:v    signature parameter\n",
      "-hmac key       create hashed MAC with key\n",
      "-mac algorithm  create MAC (not neccessarily HMAC)\n",
      "-macopt nm:v    MAC algorithm parameters or key\n",
      "-gost-mac       to use the gost-mac message digest algorithm\n",
      "-streebog512    to use the streebog512 message digest algorithm\n",
      "-streebog256    to use the streebog256 message digest algorithm\n",
      "-md_gost94      to use the md_gost94 message digest algorithm\n",
      "-md4            to use the md4 message digest algorithm\n",
      "-md5            to use the md5 message digest algorithm\n",
      "-md5-sha1       to use the md5-sha1 message digest algorithm\n",
      "-ripemd160      to use the ripemd160 message digest algorithm\n",
      "-sha1           to use the sha1 message digest algorithm\n",
      "-sha224         to use the sha224 message digest algorithm\n",
      "-sha256         to use the sha256 message digest algorithm\n",
      "-sha384         to use the sha384 message digest algorithm\n",
      "-sha512         to use the sha512 message digest algorithm\n",
      "-whirlpool      to use the whirlpool message digest algorithm\n",
      "unknown option '-sha-256'\n",
      "options are\n",
      "-c              to output the digest with separating colons\n",
      "-r              to output the digest in coreutils format\n",
      "-d              to output debug info\n",
      "-hex            output as hex dump\n",
      "-binary         output in binary form\n",
      "-sign   file    sign digest using private key in file\n",
      "-verify file    verify a signature using public key in file\n",
      "-prverify file  verify a signature using private key in file\n",
      "-keyform arg    key file format (PEM)\n",
      "-out filename   output to filename rather than stdout\n",
      "-signature file signature to verify\n",
      "-sigopt nm:v    signature parameter\n",
      "-hmac key       create hashed MAC with key\n",
      "-mac algorithm  create MAC (not neccessarily HMAC)\n",
      "-macopt nm:v    MAC algorithm parameters or key\n",
      "-gost-mac       to use the gost-mac message digest algorithm\n",
      "-streebog512    to use the streebog512 message digest algorithm\n",
      "-streebog256    to use the streebog256 message digest algorithm\n",
      "-md_gost94      to use the md_gost94 message digest algorithm\n",
      "-md4            to use the md4 message digest algorithm\n",
      "-md5            to use the md5 message digest algorithm\n",
      "-md5-sha1       to use the md5-sha1 message digest algorithm\n",
      "-ripemd160      to use the ripemd160 message digest algorithm\n",
      "-sha1           to use the sha1 message digest algorithm\n",
      "-sha224         to use the sha224 message digest algorithm\n",
      "-sha256         to use the sha256 message digest algorithm\n",
      "-sha384         to use the sha384 message digest algorithm\n",
      "-sha512         to use the sha512 message digest algorithm\n",
      "-whirlpool      to use the whirlpool message digest algorithm\n",
      "unknown option '-sha-256'\n",
      "options are\n",
      "-c              to output the digest with separating colons\n",
      "-r              to output the digest in coreutils format\n",
      "-d              to output debug info\n",
      "-hex            output as hex dump\n",
      "-binary         output in binary form\n",
      "-sign   file    sign digest using private key in file\n",
      "-verify file    verify a signature using public key in file\n",
      "-prverify file  verify a signature using private key in file\n",
      "-keyform arg    key file format (PEM)\n",
      "-out filename   output to filename rather than stdout\n",
      "-signature file signature to verify\n",
      "-sigopt nm:v    signature parameter\n",
      "-hmac key       create hashed MAC with key\n",
      "-mac algorithm  create MAC (not neccessarily HMAC)\n",
      "-macopt nm:v    MAC algorithm parameters or key\n",
      "-gost-mac       to use the gost-mac message digest algorithm\n",
      "-streebog512    to use the streebog512 message digest algorithm\n",
      "-streebog256    to use the streebog256 message digest algorithm\n",
      "-md_gost94      to use the md_gost94 message digest algorithm\n",
      "-md4            to use the md4 message digest algorithm\n",
      "-md5            to use the md5 message digest algorithm\n",
      "-md5-sha1       to use the md5-sha1 message digest algorithm\n",
      "-ripemd160      to use the ripemd160 message digest algorithm\n",
      "-sha1           to use the sha1 message digest algorithm\n",
      "-sha224         to use the sha224 message digest algorithm\n",
      "-sha256         to use the sha256 message digest algorithm\n",
      "-sha384         to use the sha384 message digest algorithm\n",
      "-sha512         to use the sha512 message digest algorithm\n",
      "-whirlpool      to use the whirlpool message digest algorithm\n"
     ]
    }
   ],
   "source": [
    "!echo -ne \\000 | openssl dgst -sha-256 -r\n",
    "!echo -ne \\001 | openssl dgst -sha-256 -r\n",
    "!echo -ne \\002 | openssl dgst -sha-256 -r"
   ]
  },
  {
   "cell_type": "markdown",
   "id": "de98d34b-cd6d-4e55-83bc-0cb93c18c5dd",
   "metadata": {},
   "source": [
    "<div class=\"alert alert-block alert-info\">\n",
    "<span style=\"color:black\">\n",
    "What did you notice?"
   ]
  },
  {
   "cell_type": "raw",
   "id": "0e5c3c6a-0955-4422-b2ad-c3e96889155a",
   "metadata": {},
   "source": []
  },
  {
   "attachments": {},
   "cell_type": "markdown",
   "id": "ef963cf0-97dc-493e-b537-76561fb43110",
   "metadata": {
    "tags": []
   },
   "source": [
    "<div class=\"alert alert-block alert-info\">\n",
    "<span style=\"color:black\">\n",
    "    <h3> Determinism </h3>\n",
    "Now that you've seen that different inputs generate different outputs, use the following cell to run openssl and hash the same value 3 times."
   ]
  },
  {
   "cell_type": "code",
   "execution_count": null,
   "id": "852c986e-487d-4778-b731-6df62ca4b297",
   "metadata": {},
   "outputs": [],
   "source": []
  },
  {
   "attachments": {},
   "cell_type": "markdown",
   "id": "88761437-2295-4e1b-8d11-310db4417caf",
   "metadata": {},
   "source": [
    "<div class=\"alert alert-block alert-info\">\n",
    "<span style=\"color:black\">\n",
    "What did you notice?"
   ]
  },
  {
   "cell_type": "raw",
   "id": "17460dc7-a86a-4e2f-96fb-2d4c32cb7182",
   "metadata": {},
   "source": []
  },
  {
   "attachments": {},
   "cell_type": "markdown",
   "id": "a73387bb-6017-4d0c-973e-d83ed4988daf",
   "metadata": {},
   "source": [
    "<div class=\"alert alert-block alert-info\">\n",
    "<span style=\"color:black\">\n",
    "Next try hashing inputs of different lengths."
   ]
  },
  {
   "cell_type": "code",
   "execution_count": null,
   "id": "bd738871-e83a-4d72-be4e-d76782e19718",
   "metadata": {},
   "outputs": [],
   "source": []
  },
  {
   "attachments": {},
   "cell_type": "markdown",
   "id": "234ea99b-ae93-49e2-93c1-73ae40a6ee88",
   "metadata": {},
   "source": [
    "<div class=\"alert alert-block alert-info\">\n",
    "<span style=\"color:black\">\n",
    "What did you notice?"
   ]
  },
  {
   "cell_type": "raw",
   "id": "82119343-bd7b-457f-80c3-694b8cba5978",
   "metadata": {},
   "source": []
  },
  {
   "attachments": {},
   "cell_type": "markdown",
   "id": "cbceb16b-6219-4cab-8228-3bf44073ad46",
   "metadata": {},
   "source": [
    "<div class=\"alert alert-block alert-info\">\n",
    "<span style=\"color:black\">\n",
    "<h3>Preimage Resistance </h3>\n",
    "Preimage resistance describes the security guarantee that for a given digest, an attacker could never find a preimage that would generate that digest.\n",
    "This is another way of saying the function is \"one-way\". This not only means that you could not reverse the function, but it is computatinally infeasable to be able by brute force to find a matching preimage, and that if you did, you would not be able to know if that preimage matched the original preimage."
   ]
  },
  {
   "cell_type": "markdown",
   "id": "2b72bc77-ff31-41f6-a0e7-95e104db1943",
   "metadata": {},
   "source": [
    "Finding a full collision, where two preimages generate the same digest, is not feasible, but trying to get partial matches can give you a feel for the challenge.<br>\n",
    "<br>Try changing the input to the hash function to other values or strings. Can you find one that matches the last 4 characters of any of the 3 above? What about only 2?<br>\n",
    "(Open a cell or cells below to try)"
   ]
  },
  {
   "cell_type": "code",
   "execution_count": null,
   "id": "04401237-84ed-425d-a6b2-697cc071f905",
   "metadata": {},
   "outputs": [],
   "source": [
    "!echo -ne \"a\" | openssl dgst -sha-256 -r\n"
   ]
  },
  {
   "cell_type": "markdown",
   "id": "a4766be0-0819-4093-8651-451e626fefc7",
   "metadata": {},
   "source": [
    "Trying this by hand only works if you are truly lucky. A better way to do this would be to execute a loop, and try many.<br>\n",
    "<br>Change the target to a 4 character hex value (hex means only characters 0-9 and a-f) and run the cell. Run it a few times with different targets."
   ]
  },
  {
   "cell_type": "code",
   "execution_count": 115,
   "id": "1c612475-8885-44bd-a052-279232f9e078",
   "metadata": {},
   "outputs": [
    {
     "name": "stdout",
     "output_type": "stream",
     "text": [
      "target: <<some_4_digit_hex_value>>\n",
      "Not Found after 10000 trials\n"
     ]
    }
   ],
   "source": [
    "target = \"<<some_4_digit_hex_value>>\" \n",
    "print(\"target:\",target.lower())\n",
    "i = 0\n",
    "num_trials=10000\n",
    "for pre_image in range(num_trials): \n",
    "    d = !echo -n $pre_image | openssl dgst -sha256\n",
    "    t = str(d)[-6:-2] #- change first index for different number of bytes\n",
    "    #print(\"t:\",t)\n",
    "    if t == target.lower():\n",
    "        print(\"[found on try \",pre_image,\"] dgst:\",d)\n",
    "        break;\n",
    "if t!=target:\n",
    "    print(\"Not Found after\",pre_image+1,\"trials\")"
   ]
  },
  {
   "cell_type": "raw",
   "id": "85c5cc7e-cf05-492f-88e8-c729b5fbfd9e",
   "metadata": {},
   "source": [
    "What did you notice?"
   ]
  },
  {
   "cell_type": "raw",
   "id": "3218c2fc-5814-4061-a40d-c0343635dbb5",
   "metadata": {},
   "source": [
    "Answer:"
   ]
  },
  {
   "cell_type": "markdown",
   "id": "bbadc8d4-f3c0-43e6-9839-40e89cb24fb0",
   "metadata": {},
   "source": [
    "While we can make system calls through the shell, it's much faster to directly use library calls instead. In this case, we'll use the Python \"hashlib\" library.\n",
    "Take a look at the function below. It uses a base string to create a target digest, a limit on how many values to try, and how many of the last characters to match."
   ]
  },
  {
   "cell_type": "code",
   "execution_count": 142,
   "id": "92c947ac-42af-4552-99df-86508dea58f9",
   "metadata": {},
   "outputs": [],
   "source": [
    "import hashlib\n",
    "import string\n",
    "import random\n",
    "\n",
    "def find_match(limit,match_size,str_base):\n",
    "\n",
    "    # initializing size of string\n",
    "    N = 128\n",
    "    d_base = hashlib.sha256(str_base.encode()).hexdigest()\n",
    "    print(\"The base string is:\", str_base)\n",
    "    print(\"The base hash is:  \", d_base)\n",
    "    print(\"Trying to match the last:\",match_size)\n",
    "\n",
    "    # using random.choices()\n",
    "    # generating random strings\n",
    "    for i in range(0,limit):\n",
    "        str_check = str(i)\n",
    "        #str_check = ''.join(random.choices(string.ascii_uppercase + string.digits, k=N))\n",
    "        d_check = hashlib.sha256(str_check.encode()).hexdigest()\n",
    "\n",
    "        if d_base[-match_size:] == d_check[-match_size:]:\n",
    "            print(\"\\nThe generated random hash   :\" + str(d_check))\n",
    "            print(\"The generated random string :\" + str(str_check))\n",
    "            break\n",
    "\n",
    "        if i % 4000000 == 0: print()\n",
    "        if i % 50000 == 0: print(\".\", end = '')\n",
    "\n",
    "    # print result\n",
    "    print()\n",
    "    if i==limit-1:\n",
    "        print(\"FAILED after\",i,\"trials\")\n",
    "    else:\n",
    "        print(\"test stopped after\",i,\"trials\")\n"
   ]
  },
  {
   "cell_type": "markdown",
   "id": "0c7ac24a-aeb0-4c66-8c44-e35555e5925c",
   "metadata": {},
   "source": [
    "Use the code in the cell below as a model to see how long it takes to find a string hashed to the same last 4 digits as the string you picked as the base."
   ]
  },
  {
   "cell_type": "code",
   "execution_count": 143,
   "id": "8f464835-3634-47aa-a459-b6e7de2bcf44",
   "metadata": {},
   "outputs": [
    {
     "name": "stdout",
     "output_type": "stream",
     "text": [
      "The base string is: help me!\n",
      "The base hash is:   59bc1eca8a7f9225087065374c77681dfbe06e19ff8f6732dcc0a777a013e98b\n",
      "Trying to match the last: 4\n",
      "\n",
      "......\n",
      "The generated random hash   :b10ddc3914b6b5211bc93c49a59f0992198d05289d4bf8ed342fef3141a0e98b\n",
      "The generated random string :279160\n",
      "\n",
      "test stopped after 279160 trials\n"
     ]
    }
   ],
   "source": [
    "limit=10000000\n",
    "match_size=4\n",
    "str_base=\"help me!\"\n",
    "find_match(limit,match_size,str_base)"
   ]
  },
  {
   "cell_type": "markdown",
   "id": "dfe329e3-52f8-4c79-bc99-4beeea43d9bc",
   "metadata": {},
   "source": [
    "What about 6? What about 8?"
   ]
  },
  {
   "cell_type": "raw",
   "id": "42e44d36-9201-4bed-8bc8-1562af1553eb",
   "metadata": {},
   "source": [
    "Answer:"
   ]
  },
  {
   "cell_type": "markdown",
   "id": "f4b3c42a-aa0c-4baa-ba4a-ac1698c229bb",
   "metadata": {},
   "source": [
    "Consider the number of trials needed to matching just these few bits of the digest (each hex digit in the digest = 4 bits, so matching 6 characters is matching 24 bits),\n",
    "<br>What do you think about the feasibility of finding a full match?"
   ]
  },
  {
   "cell_type": "raw",
   "id": "466a43cc-dad3-45a9-a9f9-56df35846f58",
   "metadata": {},
   "source": [
    "Answer:"
   ]
  },
  {
   "cell_type": "markdown",
   "id": "c4ddf929-b4d4-4a19-890e-c6eaa7d5c56b",
   "metadata": {},
   "source": [
    "## Avalanch Effect\n",
    "The following code generates pairs of random values, calculates the hash of each, then determines how many bit positions are different between the two, and calcuates the average.<br>\n",
    "Run it to see what sha256 gives."
   ]
  },
  {
   "cell_type": "code",
   "execution_count": null,
   "id": "8f44ad36-67a7-4801-bf2a-b4921ba371ee",
   "metadata": {},
   "outputs": [],
   "source": []
  },
  {
   "cell_type": "code",
   "execution_count": 122,
   "id": "62399314-27a6-4956-b2cb-daaf48f7bac6",
   "metadata": {},
   "outputs": [],
   "source": [
    "import hashlib\n",
    "  \n",
    "#- calculate the number of bits differing between two different values\n",
    "def bit_differences( A,  B):\n",
    "  \n",
    "    count = 0\n",
    " \n",
    "    for i in range(0,512):\n",
    " \n",
    "        # right shift both the numbers by 'i' and\n",
    "        # check if the bit at the 0th position is different\n",
    "        if ((( A >>  i) & 1) != (( B >>  i) & 1)):\n",
    "             count=count+1\n",
    "          \n",
    "    return count  \n",
    " \n",
    "#- generate hash of two input strings\n",
    "def run_trial(A,B):    \n",
    "    \n",
    "    #- change the hash function here\n",
    "    #- << change digest method here >>\n",
    "    result_a = hashlib.sha256(A).hexdigest()\n",
    "    result_b = hashlib.sha256(B).hexdigest()\n",
    "    \n",
    "    r_a = int(result_a,16)\n",
    "    r_b = int(result_b,16)\n",
    "\n",
    "    #print(\"a:\",A,\"d_a:\",result_a, r_a)\n",
    "    #print(\"b:\",B,\"d_b:\",result_b, r_b)\n",
    "\n",
    "    return bit_differences( r_a,  r_b)\n",
    "\n",
    "\n"
   ]
  },
  {
   "cell_type": "code",
   "execution_count": 140,
   "id": "b3b90a39-8c68-401b-8dd6-0930bb2d6f86",
   "metadata": {},
   "outputs": [
    {
     "name": "stdout",
     "output_type": "stream",
     "text": [
      "avg bit diff: 128.17017017017017\n"
     ]
    }
   ],
   "source": [
    "#- calculate the average number of bit differences between two random pre-images\n",
    "import random\n",
    "sum=0\n",
    "for i in range(1000):\n",
    "    r1 = random.randint(0,99999999)\n",
    "    r2 = random.randint(0,99999999)\n",
    "    r1a = r1 ##<< flip a bit >>##\n",
    "    count = run_trial(str(r1).encode(),str(r2).encode())\n",
    "    sum += count\n",
    "\n",
    "print(\"avg bit diff:\",sum/i)"
   ]
  },
  {
   "cell_type": "markdown",
   "id": "50f9f50c-6805-4ffe-ab18-9fa63cc12cee",
   "metadata": {},
   "source": [
    "Now, copy the code from the cell above to the cell below, and modify it to determine the average bit distance between 2 inputs which differ by one bit. (hint: XOR of a single one will flip a single bit)"
   ]
  },
  {
   "cell_type": "code",
   "execution_count": null,
   "id": "c22b5be6-f253-478c-b1cb-4ee8e42fddbd",
   "metadata": {},
   "outputs": [],
   "source": [
    "copy code here:"
   ]
  },
  {
   "cell_type": "markdown",
   "id": "23f587ac-d32c-4dea-9e1a-96a9a43c371f",
   "metadata": {},
   "source": [
    "Comment on what you observed:"
   ]
  },
  {
   "cell_type": "raw",
   "id": "48801663-780e-43d7-8567-b658f4e797ab",
   "metadata": {},
   "source": []
  },
  {
   "cell_type": "markdown",
   "id": "33134365-6cc5-4a4b-9a37-3f7f4333c1e2",
   "metadata": {},
   "source": [
    "## Proof-of-Work\n",
    "\n",
    "One use of cryptography in blockchain is \"proof-of-work\". To accomplish the \"miners\" must find a preimage that results in a digest that is smaller than some set value. Over time this value is reduced making mining more difficult.\n",
    "\n",
    "Below is some Python code that generates digest from an input, *test_input*, and then checks to see if it is smaller than the target, *target_digest*.\n"
   ]
  },
  {
   "cell_type": "code",
   "execution_count": 94,
   "id": "2575131c-5c96-4dbe-8c30-ce8eb2885f3e",
   "metadata": {},
   "outputs": [],
   "source": [
    "import hashlib\n",
    "import binascii\n",
    "\n",
    "def proof_of_work(test_input):\n",
    "    target_digest = b'000fffffffffffffffffffffffffffffffffffffffffffffffffffffffffffff'\n",
    "    digest = binascii.hexlify(bytearray(hashlib.sha256(test_input).digest()))\n",
    "\n",
    "    print(\"input: \",test_input)\n",
    "    print(\"digest:\", digest)\n",
    "    print(\"target:\", target_digest)\n",
    "\n",
    "    return digest < target_digest\n"
   ]
  },
  {
   "cell_type": "markdown",
   "id": "002e81bd-a39f-4abf-9a5b-4d8d3e21d708",
   "metadata": {},
   "source": [
    "See if you can find an input that creates a digest smaller than the target."
   ]
  },
  {
   "cell_type": "code",
   "execution_count": 95,
   "id": "1400e7f8-a9f4-438c-9d5d-bb5cf54081a8",
   "metadata": {},
   "outputs": [
    {
     "name": "stdout",
     "output_type": "stream",
     "text": [
      "input:  b'00000000'\n",
      "digest: b'7e071fd9b023ed8f18458a73613a0834f6220bd5cc50357ba3493c6040a9ea8c'\n",
      "target: b'000fffffffffffffffffffffffffffffffffffffffffffffffffffffffffffff'\n"
     ]
    },
    {
     "data": {
      "text/plain": [
       "False"
      ]
     },
     "execution_count": 95,
     "metadata": {},
     "output_type": "execute_result"
    }
   ],
   "source": [
    "test_input = b'00000000'\n",
    "proof_of_work(test_input)"
   ]
  },
  {
   "cell_type": "code",
   "execution_count": null,
   "id": "ad83bacb-d825-48ad-b928-42bf0fc8d629",
   "metadata": {},
   "outputs": [],
   "source": []
  },
  {
   "cell_type": "markdown",
   "id": "6bc709ae-c80f-49da-8f47-a14a6b468a79",
   "metadata": {},
   "source": [
    "## A simple XOR \"hash\" function in Python"
   ]
  },
  {
   "cell_type": "markdown",
   "id": "3d273d82-510b-40c4-b41e-1ff4261a89d2",
   "metadata": {},
   "source": [
    "\n",
    "The partial function below iterates over the bytes in the input string (as a list of bytes) and returns the result.\n",
    "\n",
    "#### 1) Modify the function below as needed so that it XORs each byte in the string with the next and returnd the result"
   ]
  },
  {
   "cell_type": "code",
   "execution_count": null,
   "id": "e1f331fa-6f3a-4c99-b8a5-4108bfef27c5",
   "metadata": {},
   "outputs": [],
   "source": [
    "def xor_hash(input_bytes):\n",
    "    h0 = ##<< set initial value here >>##\n",
    "    \n",
    "    value=h0\n",
    "    for byte in input_bytes:\n",
    "        value = value ##<< complete to XOR value with the current byte >>##\n",
    "        \n",
    "    return hex(value)        \n",
    "    "
   ]
  },
  {
   "cell_type": "markdown",
   "id": "baad4c36-3ed2-41a0-b0ed-ce3dba86e28d",
   "metadata": {},
   "source": [
    "#### 2)\tConsider your xor hash function:\n",
    "2a.\tIn your function, what did you initialized <i>h0</i> to? Why?"
   ]
  },
  {
   "cell_type": "raw",
   "id": "4ab8fb2c-291b-47cf-8591-9ee26a0d84d0",
   "metadata": {},
   "source": [
    "Answer:"
   ]
  },
  {
   "cell_type": "markdown",
   "id": "da864e85-9452-41b6-bdb2-dc149c1411dd",
   "metadata": {},
   "source": [
    "2b.\tHow many inputs could your function accept?\n"
   ]
  },
  {
   "cell_type": "raw",
   "id": "59ea32ec-0b65-4a8e-8199-43c3e1941e0a",
   "metadata": {},
   "source": [
    "Answer:"
   ]
  },
  {
   "cell_type": "markdown",
   "id": "84648bed-fc5b-4c43-9db1-bb4c359235ab",
   "metadata": {},
   "source": [
    "2c.\tHow many unique digest values could this function generate? "
   ]
  },
  {
   "cell_type": "raw",
   "id": "92837438-d445-4680-a190-2e36a255fbb1",
   "metadata": {},
   "source": [
    "Answer:"
   ]
  },
  {
   "cell_type": "markdown",
   "id": "5105b60f-3ab1-4d82-88ca-f75f981fad6b",
   "metadata": {},
   "source": [
    "2d.Using the quote, “Anyone who tries to create his or her own cryptographic primitive is either a genius or a fool. Given the genius/fool ratio of our species, the odds aren't very good. --Bruce Schneier\", as the preimage for your function,\n",
    "  what is the output value returned?"
   ]
  },
  {
   "cell_type": "code",
   "execution_count": 50,
   "id": "d9b0d1ac-b80f-4295-949e-5983bc9ad0c7",
   "metadata": {
    "tags": []
   },
   "outputs": [
    {
     "data": {
      "text/plain": [
       "'0x6e'"
      ]
     },
     "execution_count": 50,
     "metadata": {},
     "output_type": "execute_result"
    }
   ],
   "source": [
    "message = b\"Anyone who tries to create his or her own cryptographic primitive is either a genius or a fool. Given the genius/fool ratio of our species, the odds aren\\'t very good. --Bruce Schneier\"\n",
    "xor_hash(message)"
   ]
  },
  {
   "cell_type": "markdown",
   "id": "b676f9e1-387d-4e0b-be6c-5434d078cd79",
   "metadata": {},
   "source": [
    "#### 3)\tAttempt to find a pre-image such that your function would output 0xCC as the digest. You may do this by executing your function or paper and pencil\n"
   ]
  },
  {
   "cell_type": "code",
   "execution_count": null,
   "id": "06203a78-a883-4e95-8aea-e3f917b9db2a",
   "metadata": {},
   "outputs": [],
   "source": []
  },
  {
   "cell_type": "markdown",
   "id": "53727ee8-c59b-42de-9c53-dec17b223f63",
   "metadata": {},
   "source": [
    "3a.\tWhat was the pre-image you found?"
   ]
  },
  {
   "cell_type": "raw",
   "id": "eb3357bf-1e56-4038-8692-d96c3955b092",
   "metadata": {},
   "source": [
    "Answer:"
   ]
  },
  {
   "cell_type": "markdown",
   "id": "ce9fe4ca-5f22-4795-ac27-b4c64d449c9d",
   "metadata": {},
   "source": [
    "3b.\tExplain the method you used to find it?"
   ]
  },
  {
   "cell_type": "raw",
   "id": "bfe17f99-cc16-4e72-b16f-de08c87b746d",
   "metadata": {},
   "source": [
    "Answer:"
   ]
  },
  {
   "cell_type": "markdown",
   "id": "6de178c7-d5a7-494c-bbf4-b11b054a0a51",
   "metadata": {},
   "source": [
    "#### 4)\tAttempt to find a collision – any two different pre-images that generate the same hash value. You may do this using your function or paper and pencil\n",
    "4a.\tWhat are the two inputs?"
   ]
  },
  {
   "cell_type": "raw",
   "id": "5df81898-6609-408a-8e2a-168db9f5e2c8",
   "metadata": {},
   "source": [
    "Answer:"
   ]
  },
  {
   "cell_type": "markdown",
   "id": "a0b61b74-b8ea-4294-95d7-ad4869ec26b9",
   "metadata": {},
   "source": [
    "4b.\tWhat was the hash value?"
   ]
  },
  {
   "cell_type": "raw",
   "id": "1633bbcb-91f3-4d2d-ab3f-f52461a9b311",
   "metadata": {},
   "source": [
    "Answer:"
   ]
  },
  {
   "cell_type": "markdown",
   "id": "b08f62e4-0033-4105-a953-dfd12a837017",
   "metadata": {},
   "source": [
    "#### 5)\tConsider your xor function.\n",
    "5a.\tIs your function a hash function?"
   ]
  },
  {
   "cell_type": "raw",
   "id": "6d9092b6-1fa3-4e39-8156-7fb4715a304a",
   "metadata": {},
   "source": [
    "Answer:"
   ]
  },
  {
   "cell_type": "markdown",
   "id": "345ac243-2d75-4a8d-8065-7b2a1a0d2e6b",
   "metadata": {},
   "source": [
    "5b.\tWhy or why not?"
   ]
  },
  {
   "cell_type": "raw",
   "id": "41da787b-4ca9-41f1-86b1-fe65cd705c43",
   "metadata": {},
   "source": [
    "Answer:"
   ]
  },
  {
   "cell_type": "markdown",
   "id": "81f0fcf2-91b2-4832-a10e-b554428b1f8f",
   "metadata": {},
   "source": [
    "#### 6)\tConsider the requirement that CHFs must be one-way, meaning you could not easily determine the original pre-image from its matching digest.\n",
    "6a.\tIn your function one way?"
   ]
  },
  {
   "cell_type": "raw",
   "id": "7d5b48da-2253-4593-a007-3d2b587c31e8",
   "metadata": {},
   "source": [
    "Answer:"
   ]
  },
  {
   "cell_type": "markdown",
   "id": "eca50623-43b0-4df0-90e5-b2b0b6964886",
   "metadata": {},
   "source": [
    "#### 7) Consider the requirements of a “cryptographic” hash function (CHF)?\n",
    "\n",
    "7a.\tIn what ways does your hash function meet them, if any?"
   ]
  },
  {
   "cell_type": "raw",
   "id": "77afbf44-c614-443c-9567-74e8f2fe50a4",
   "metadata": {},
   "source": [
    "Answer:"
   ]
  },
  {
   "cell_type": "markdown",
   "id": "8a3f903d-e102-4fe2-a837-de4c1dc36ba5",
   "metadata": {},
   "source": [
    "7b.\tIn what ways does your hash function NOT meet them, if any?"
   ]
  },
  {
   "cell_type": "raw",
   "id": "bb3d6fd7-d38a-43a2-9403-64c2f3607e86",
   "metadata": {},
   "source": [
    "Answer:"
   ]
  },
  {
   "cell_type": "markdown",
   "id": "ddee7aca-422e-4069-b32e-b1ed30dd8ef7",
   "metadata": {},
   "source": [
    "#### 8)\tOne property of CHFs is exhibiting good diffusion or an avalanche effect?\n",
    "8a.\tExplain what you did you evaluate this?\n"
   ]
  },
  {
   "cell_type": "raw",
   "id": "9a4545e6-ec16-4599-8ad8-bd3094d3f436",
   "metadata": {},
   "source": [
    "Answer:"
   ]
  },
  {
   "cell_type": "markdown",
   "id": "12dd2681-526c-4b05-8142-2ddd9d678992",
   "metadata": {
    "tags": []
   },
   "source": [
    "8b.\tIs this a good hash function for security purposes? Explain."
   ]
  },
  {
   "cell_type": "raw",
   "id": "7743be81-6257-4535-902c-0bda73e7ee66",
   "metadata": {},
   "source": [
    "Answer:"
   ]
  }
 ],
 "metadata": {
  "kernelspec": {
   "display_name": "Python 3 (ipykernel)",
   "language": "python",
   "name": "python3"
  },
  "language_info": {
   "codemirror_mode": {
    "name": "ipython",
    "version": 3
   },
   "file_extension": ".py",
   "mimetype": "text/x-python",
   "name": "python",
   "nbconvert_exporter": "python",
   "pygments_lexer": "ipython3",
   "version": "3.11.1"
  }
 },
 "nbformat": 4,
 "nbformat_minor": 5
}
