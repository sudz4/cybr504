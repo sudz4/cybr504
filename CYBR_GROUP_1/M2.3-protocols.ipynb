{
 "cells": [
  {
   "cell_type": "markdown",
   "id": "fb726e2a-3770-4fb9-b153-b69a7c882bba",
   "metadata": {},
   "source": [
    "# MODULE 2.3 - Protocols\n",
    "\n",
    "## Overview\n",
    "Protocols define the sequence of events between parties and the rules that are to be followed for the purpose of accomplishing some set of goals. Protocols can range from incredibly complex to incredibly simple. The key to evaluating protocols is do they meet their stated goals. A protocol to provide integrity may not provide confidentiality, which may be ok, if confidentiality is not important. When designing or selecting protocols it’s crucial to be aware of your assumptions and to identify the protocol's goals correctly and completely.\n",
    "\n",
    "\n",
    "\n",
    "--------------------------------------------------------------\n",
    "\n",
    "## A Simple Protocol\n",
    "\n",
    "Consider this simple protocol.\n",
    "\n",
    "Trustworthy Trent operates a timestamping service that provides proof of when a document was created. For example, suppose Alice has a document with supporting evidence for her patent application. Alice wants her document timestamped to prove when her designs existed. \n",
    "1. Alice transmits a copy of the document to Trent\n",
    "1. Trent records the date and time he received the document and stores that along with a copy of the document for reference.\n",
    "If anyone questions when the document was created, they could contact Trent who could verify the timestamp and that the document presented matches the document stored.\n",
    "\n",
    "What are some security or operational concerns with this protocol?"
   ]
  },
  {
   "cell_type": "raw",
   "id": "dcde21d4-4349-44d2-966c-1750fef3338c",
   "metadata": {},
   "source": []
  },
  {
   "cell_type": "markdown",
   "id": "9035d4ef-0dd7-4bb7-afc3-7bd86f99d1d1",
   "metadata": {
    "jupyter": {
     "source_hidden": true
    },
    "tags": []
   },
   "source": [
    "Some concerns could include:\n",
    "* No privacy.\n",
    "* Database of documents would be huge.\n",
    "* No integrity checking of what was timestamped.\n",
    "* Loss of Trent’s database would invalidate all timestamps.\n",
    "* It could be used by persons’ not as trustworthy as Trent.\n"
   ]
  },
  {
   "cell_type": "markdown",
   "id": "1506cc00-dd11-4c11-9611-802df16b1387",
   "metadata": {},
   "source": [
    "What are some strengths?"
   ]
  },
  {
   "cell_type": "raw",
   "id": "34ebfde2-6ab6-4893-abf7-f6f73aa007e1",
   "metadata": {
    "tags": []
   },
   "source": []
  },
  {
   "cell_type": "markdown",
   "id": "72d20426-9b30-4e79-93d7-9eff4606a1dd",
   "metadata": {
    "jupyter": {
     "source_hidden": true
    },
    "tags": []
   },
   "source": [
    "no keys needed to be exchanged"
   ]
  },
  {
   "cell_type": "markdown",
   "id": "ca183421-e2a9-420b-9462-a301f3d09873",
   "metadata": {
    "tags": []
   },
   "source": [
    "What could be some attacks on this protocol that would invalidate the service?"
   ]
  },
  {
   "cell_type": "raw",
   "id": "12caac3b-b2fc-4b70-8052-19df8e63f0c9",
   "metadata": {},
   "source": []
  },
  {
   "cell_type": "markdown",
   "id": "d7b122cc-87b4-410b-951a-e5edc44cadc2",
   "metadata": {
    "jupyter": {
     "source_hidden": true
    },
    "tags": []
   },
   "source": [
    "* Hack the clock\n",
    "* Hack Trent’s database\n",
    "* Destroy Trent’s database"
   ]
  },
  {
   "cell_type": "markdown",
   "id": "45abb93a-3794-4bd9-a06b-207a9be8f1df",
   "metadata": {},
   "source": [
    "How could this protocol be improved? State any particular goals or assumptions."
   ]
  },
  {
   "cell_type": "raw",
   "id": "57160079-b1a8-470c-bc7e-b86d1c9e57af",
   "metadata": {},
   "source": []
  },
  {
   "cell_type": "markdown",
   "id": "da80f65c-3df9-4045-bc33-6ce19ba0ff8d",
   "metadata": {
    "deletable": false,
    "editable": false,
    "selectable": false,
    "tags": []
   },
   "source": [
    "If instead of sending her document to Trent, Alice sends the hash of her document to timestamp, in what ways does this improve the protocol?"
   ]
  },
  {
   "cell_type": "raw",
   "id": "4b2758f0-ef7b-42c0-9c6d-59f2f83e8ae8",
   "metadata": {},
   "source": []
  },
  {
   "cell_type": "markdown",
   "id": "11a3fc65-4a23-4457-ae62-8f30ac1b90fc",
   "metadata": {},
   "source": [
    "What problems remain?"
   ]
  },
  {
   "cell_type": "raw",
   "id": "d7f91b32-43a8-490b-9a5f-18294a98bcc2",
   "metadata": {},
   "source": []
  },
  {
   "cell_type": "markdown",
   "id": "ee88a002-f64b-49e4-8632-b6a90a793001",
   "metadata": {},
   "source": [
    "----------------------------------------------------------------------------"
   ]
  },
  {
   "cell_type": "markdown",
   "id": "6d854056-4e15-40e6-a821-aad04b34612f",
   "metadata": {
    "tags": []
   },
   "source": [
    "## Message Exchange\n",
    "\n",
    "Alice uses the following protocol to send a document to Bob. \n",
    "\n",
    "1. Alice and Bob exchange public keys\n",
    "1. Alice and Bob agree on a protocol for message exchange\n",
    "1. With $M$ being Alice's document, Alice generates $ C = S_{A}(T||H(M) || E_{B}(M) ) $ and sends $ C $ to Bob.\n",
    "\n",
    "What steps would Bob take to recover and validate Alice's document?"
   ]
  },
  {
   "cell_type": "code",
   "execution_count": null,
   "id": "2f8d7964-91fc-4b86-8b65-d5e8678c5865",
   "metadata": {},
   "outputs": [],
   "source": []
  },
  {
   "cell_type": "markdown",
   "id": "81b4b8ff-72c5-43e3-b5a4-6f1574d9a53e",
   "metadata": {
    "jupyter": {
     "source_hidden": true
    },
    "tags": []
   },
   "source": [
    "1. _Bob Verifies the message using Alice's Public Key_\n",
    "1. _Bob separates the message into, a timestamp $ T,$ a message digest $ H(M) $ and the encrypted message, $ E_{B}(M) $_\n",
    "1. _Bob decrypts the message $ D_{B}(E_{A}(M)) = M $_\n",
    "1. _Bob generates the digest of $ M' = H(M) $_\n",
    "1. _Bob compares $ M' $ and $ M $ and if the same, he knows he has the message came from Alice and it was as she sent it._\n",
    "\n"
   ]
  },
  {
   "cell_type": "markdown",
   "id": "cd606ed8-e6eb-4f45-acc2-d2b60c94fb7e",
   "metadata": {},
   "source": [
    "Why is Bob sure it came from Alice? What assumptions are you making?"
   ]
  },
  {
   "cell_type": "raw",
   "id": "51424f70-c4da-4c99-a25e-c01a118e8957",
   "metadata": {},
   "source": []
  },
  {
   "cell_type": "markdown",
   "id": "bf9d18b1-742b-4763-8fdb-5ab7bf6710cd",
   "metadata": {
    "jupyter": {
     "source_hidden": true
    },
    "tags": []
   },
   "source": [
    "_It was signed with Alice's private key. We assume that only Alice has access to that key._"
   ]
  },
  {
   "cell_type": "markdown",
   "id": "0f2568de-5b99-461f-95b8-cffdb29c1c44",
   "metadata": {},
   "source": [
    "Why is Bob sure the document received is the document Alice sent?"
   ]
  },
  {
   "cell_type": "raw",
   "id": "978399ea-8068-44bd-9e51-f30e8c7372a6",
   "metadata": {},
   "source": []
  },
  {
   "cell_type": "markdown",
   "id": "a440d9e3-c9e0-4412-9623-910b21e3dad8",
   "metadata": {
    "jupyter": {
     "source_hidden": true
    },
    "tags": []
   },
   "source": [
    "_The hash of her unencrypted document included in the message matches the hash of the decrypted document._"
   ]
  },
  {
   "cell_type": "markdown",
   "id": "946e127b-33c9-4c9d-b933-ee6d7b6d8710",
   "metadata": {},
   "source": [
    "In practice documents would not be sent being encrypted using asymmetric encryption. What would be done instead, and why?"
   ]
  },
  {
   "cell_type": "markdown",
   "id": "ec7607d6-0902-4ac7-be49-e7d3ce9ca775",
   "metadata": {
    "jupyter": {
     "source_hidden": true
    },
    "tags": []
   },
   "source": [
    "_Because asymmetric encryption is slow, Alice would generate and send a session key to be used with symmetric encryption. The document would be encrypted with that key and the encrypted document sent to Bob._"
   ]
  },
  {
   "cell_type": "raw",
   "id": "9188f5be-0225-4810-b476-273fc151f30b",
   "metadata": {},
   "source": []
  },
  {
   "cell_type": "code",
   "execution_count": null,
   "id": "0e7f297a-ab09-4687-8d64-132461d25c4c",
   "metadata": {},
   "outputs": [],
   "source": []
  },
  {
   "cell_type": "markdown",
   "id": "b9854a77-0f1f-4856-b825-b234092430e0",
   "metadata": {},
   "source": [
    "## Alice's Robots\n",
    "\n",
    "Alice is broadcasting encrypted messages to her team of 16 robots. The messages include the robot's ID number (0-15), and a command move forward, move back, move right, move left, turn right, turn left, pick up, or put down). The message format is M = [ ID || Command ].\n",
    "\n",
    "Alice encrypts the messages using the shared public key for the robot team.\n",
    "\n",
    "Bob wants to know what Alice is sending to her robots. And its pretty simple.\n",
    "\n",
    "How can he do this?"
   ]
  },
  {
   "cell_type": "markdown",
   "id": "50800bab-12f0-4cfc-a352-3cd48a8e3289",
   "metadata": {},
   "source": [
    "Hint: using the above method, how many possible different messages will Alice send?"
   ]
  },
  {
   "cell_type": "raw",
   "id": "15f9feb3-e24f-4272-9164-37e6825b55d7",
   "metadata": {},
   "source": []
  },
  {
   "cell_type": "markdown",
   "id": "5a622451-eb20-4915-83da-f55188f2c1d4",
   "metadata": {},
   "source": [
    "If instead of sending M, would sending H(M) prevent Bob from knowing what she was sending."
   ]
  },
  {
   "cell_type": "raw",
   "id": "dd4cc66e-4ffa-4da6-927c-adfa3b68050f",
   "metadata": {},
   "source": []
  },
  {
   "cell_type": "markdown",
   "id": "f0e08d79-b97b-4735-9a56-653c67d517c3",
   "metadata": {},
   "source": [
    "How would (or would not) Alice signing the message, either S(A,M) or S(A,H(M)), improve security?"
   ]
  },
  {
   "cell_type": "raw",
   "id": "92f75514-05c4-44f6-93b0-d22b526d62d3",
   "metadata": {},
   "source": []
  },
  {
   "cell_type": "markdown",
   "id": "8e80d670-9911-42fe-a980-87d5a29e49c4",
   "metadata": {},
   "source": [
    "What simple change would you make to M to make this communication secure?"
   ]
  },
  {
   "cell_type": "raw",
   "id": "4d9a806b-217d-45b9-bf14-8bcdde2489f9",
   "metadata": {},
   "source": []
  },
  {
   "cell_type": "markdown",
   "id": "20fd19c7-5f26-433e-ba2e-896b16b3e7fb",
   "metadata": {},
   "source": [
    "Describe your solution using standard notation."
   ]
  },
  {
   "cell_type": "raw",
   "id": "8b5804c8-a9e8-4f5f-9512-89915bc743f4",
   "metadata": {},
   "source": []
  }
 ],
 "metadata": {
  "kernelspec": {
   "display_name": "Bash",
   "language": "bash",
   "name": "bash"
  },
  "language_info": {
   "codemirror_mode": "shell",
   "file_extension": ".sh",
   "mimetype": "text/x-sh",
   "name": "bash"
  }
 },
 "nbformat": 4,
 "nbformat_minor": 5
}
